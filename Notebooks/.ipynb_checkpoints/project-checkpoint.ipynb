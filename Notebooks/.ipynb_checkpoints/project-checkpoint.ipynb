{
 "cells": [
  {
   "cell_type": "code",
   "execution_count": 22,
   "id": "68db3f43",
   "metadata": {},
   "outputs": [],
   "source": [
    "import pandas as pd\n",
    "import matplotlib.pyplot as plt\n",
    "import numpy as np\n",
    "import seaborn as sns\n",
    "from sklearn.neighbors import KNeighborsClassifier\n",
    "from sklearn.preprocessing import StandardScaler\n",
    "from sklearn.model_selection import train_test_split\n",
    "from tensorflow.keras.utils import to_categorical\n",
    "from sklearn.metrics import confusion_matrix  \n",
    "from tensorflow.keras import Sequential\n",
    "from tensorflow.keras.layers import Dense\n",
    "%matplotlib inline\n",
    "from sklearn.linear_model import LogisticRegression\n",
    "from joblib import dump\n",
    "from sklearn.ensemble import RandomForestClassifier"
   ]
  },
  {
   "cell_type": "code",
   "execution_count": 23,
   "id": "94a3020f",
   "metadata": {},
   "outputs": [
    {
     "name": "stdout",
     "output_type": "stream",
     "text": [
      "   mean_radius  mean_texture  mean_perimeter  mean_area  mean_smoothness  \\\n",
      "0        19.69         21.25          130.00     1203.0           0.1096   \n",
      "1        11.42         20.38           77.58      386.1           0.1425   \n",
      "2        20.29         14.34          135.10     1297.0           0.1003   \n",
      "3        12.45         15.70           82.57      477.1           0.1278   \n",
      "4        13.08         15.71           85.63      520.0           0.1075   \n",
      "\n",
      "   diagnosis  \n",
      "0          0  \n",
      "1          0  \n",
      "2          0  \n",
      "3          0  \n",
      "4          1  \n",
      "<class 'pandas.core.frame.DataFrame'>\n",
      "RangeIndex: 568 entries, 0 to 567\n",
      "Data columns (total 6 columns):\n",
      " #   Column           Non-Null Count  Dtype  \n",
      "---  ------           --------------  -----  \n",
      " 0   mean_radius      568 non-null    float64\n",
      " 1   mean_texture     568 non-null    float64\n",
      " 2   mean_perimeter   568 non-null    float64\n",
      " 3   mean_area        568 non-null    float64\n",
      " 4   mean_smoothness  568 non-null    float64\n",
      " 5   diagnosis        568 non-null    int64  \n",
      "dtypes: float64(5), int64(1)\n",
      "memory usage: 26.8 KB\n",
      "None\n"
     ]
    },
    {
     "data": {
      "text/html": [
       "<div>\n",
       "<style scoped>\n",
       "    .dataframe tbody tr th:only-of-type {\n",
       "        vertical-align: middle;\n",
       "    }\n",
       "\n",
       "    .dataframe tbody tr th {\n",
       "        vertical-align: top;\n",
       "    }\n",
       "\n",
       "    .dataframe thead th {\n",
       "        text-align: right;\n",
       "    }\n",
       "</style>\n",
       "<table border=\"1\" class=\"dataframe\">\n",
       "  <thead>\n",
       "    <tr style=\"text-align: right;\">\n",
       "      <th></th>\n",
       "      <th>mean_radius</th>\n",
       "      <th>mean_texture</th>\n",
       "      <th>mean_perimeter</th>\n",
       "      <th>mean_area</th>\n",
       "      <th>mean_smoothness</th>\n",
       "      <th>diagnosis</th>\n",
       "    </tr>\n",
       "  </thead>\n",
       "  <tbody>\n",
       "    <tr>\n",
       "      <th>count</th>\n",
       "      <td>568.000000</td>\n",
       "      <td>568.000000</td>\n",
       "      <td>568.000000</td>\n",
       "      <td>568.000000</td>\n",
       "      <td>568.000000</td>\n",
       "      <td>568.000000</td>\n",
       "    </tr>\n",
       "    <tr>\n",
       "      <th>mean</th>\n",
       "      <td>14.120491</td>\n",
       "      <td>19.305335</td>\n",
       "      <td>91.914754</td>\n",
       "      <td>654.279754</td>\n",
       "      <td>0.096321</td>\n",
       "      <td>0.628521</td>\n",
       "    </tr>\n",
       "    <tr>\n",
       "      <th>std</th>\n",
       "      <td>3.523416</td>\n",
       "      <td>4.288506</td>\n",
       "      <td>24.285848</td>\n",
       "      <td>351.923751</td>\n",
       "      <td>0.014046</td>\n",
       "      <td>0.483626</td>\n",
       "    </tr>\n",
       "    <tr>\n",
       "      <th>min</th>\n",
       "      <td>6.981000</td>\n",
       "      <td>9.710000</td>\n",
       "      <td>43.790000</td>\n",
       "      <td>143.500000</td>\n",
       "      <td>0.052630</td>\n",
       "      <td>0.000000</td>\n",
       "    </tr>\n",
       "    <tr>\n",
       "      <th>25%</th>\n",
       "      <td>11.697500</td>\n",
       "      <td>16.177500</td>\n",
       "      <td>75.135000</td>\n",
       "      <td>420.175000</td>\n",
       "      <td>0.086290</td>\n",
       "      <td>0.000000</td>\n",
       "    </tr>\n",
       "    <tr>\n",
       "      <th>50%</th>\n",
       "      <td>13.355000</td>\n",
       "      <td>18.855000</td>\n",
       "      <td>86.210000</td>\n",
       "      <td>548.750000</td>\n",
       "      <td>0.095865</td>\n",
       "      <td>1.000000</td>\n",
       "    </tr>\n",
       "    <tr>\n",
       "      <th>75%</th>\n",
       "      <td>15.780000</td>\n",
       "      <td>21.802500</td>\n",
       "      <td>103.875000</td>\n",
       "      <td>782.625000</td>\n",
       "      <td>0.105300</td>\n",
       "      <td>1.000000</td>\n",
       "    </tr>\n",
       "    <tr>\n",
       "      <th>max</th>\n",
       "      <td>28.110000</td>\n",
       "      <td>39.280000</td>\n",
       "      <td>188.500000</td>\n",
       "      <td>2501.000000</td>\n",
       "      <td>0.163400</td>\n",
       "      <td>1.000000</td>\n",
       "    </tr>\n",
       "  </tbody>\n",
       "</table>\n",
       "</div>"
      ],
      "text/plain": [
       "       mean_radius  mean_texture  mean_perimeter    mean_area  \\\n",
       "count   568.000000    568.000000      568.000000   568.000000   \n",
       "mean     14.120491     19.305335       91.914754   654.279754   \n",
       "std       3.523416      4.288506       24.285848   351.923751   \n",
       "min       6.981000      9.710000       43.790000   143.500000   \n",
       "25%      11.697500     16.177500       75.135000   420.175000   \n",
       "50%      13.355000     18.855000       86.210000   548.750000   \n",
       "75%      15.780000     21.802500      103.875000   782.625000   \n",
       "max      28.110000     39.280000      188.500000  2501.000000   \n",
       "\n",
       "       mean_smoothness   diagnosis  \n",
       "count       568.000000  568.000000  \n",
       "mean          0.096321    0.628521  \n",
       "std           0.014046    0.483626  \n",
       "min           0.052630    0.000000  \n",
       "25%           0.086290    0.000000  \n",
       "50%           0.095865    1.000000  \n",
       "75%           0.105300    1.000000  \n",
       "max           0.163400    1.000000  "
      ]
     },
     "execution_count": 23,
     "metadata": {},
     "output_type": "execute_result"
    }
   ],
   "source": [
    "df=pd.read_csv(\"Breast_cancer_data.csv\")\n",
    "names = ['mean_radius','mean_texture','mean_perimeter','mean_area','mean_smoothness','diagnosis']\n",
    "df.columns = names\n",
    "print(df.head())\n",
    "print(df.info())\n",
    "df.describe()"
   ]
  },
  {
   "cell_type": "code",
   "execution_count": 24,
   "id": "6d80fece",
   "metadata": {},
   "outputs": [
    {
     "name": "stdout",
     "output_type": "stream",
     "text": [
      "1    357\n",
      "0    211\n",
      "Name: diagnosis, dtype: int64\n"
     ]
    }
   ],
   "source": [
    "print(df['diagnosis'].value_counts())"
   ]
  },
  {
   "cell_type": "markdown",
   "id": "0d41efbd",
   "metadata": {},
   "source": [
    "sns.heatmap(df.corr(),annot=True)"
   ]
  },
  {
   "cell_type": "markdown",
   "id": "08f72c35",
   "metadata": {},
   "source": [
    "# training logistic regression model"
   ]
  },
  {
   "cell_type": "markdown",
   "id": "197e7175",
   "metadata": {},
   "source": [
    "# splitting the dataset and standardising it"
   ]
  },
  {
   "cell_type": "code",
   "execution_count": 25,
   "id": "5de1cd34",
   "metadata": {},
   "outputs": [
    {
     "name": "stdout",
     "output_type": "stream",
     "text": [
      "Number of rows in x_train: 454\n",
      "Number of rows in x_test: 114\n",
      "Number of rows in y_train: 454\n",
      "Number of rows in y_test: 114\n"
     ]
    }
   ],
   "source": [
    "x=df[['mean_radius','mean_texture','mean_perimeter','mean_area','mean_smoothness']]\n",
    "y = df['diagnosis']\n",
    "standardise = StandardScaler()\n",
    "x_train, x_test, y_train, y_test=train_test_split(x,y,test_size=0.2, random_state=10) #splitting\n",
    "print(\"Number of rows in x_train:\", x_train.shape[0])\n",
    "print(\"Number of rows in x_test:\", x_test.shape[0])\n",
    "print(\"Number of rows in y_train:\", y_train.shape[0])\n",
    "print(\"Number of rows in y_test:\", y_test.shape[0])\n",
    "x_train= standardise.fit_transform(x_train)\n",
    "x_test= standardise.transform(x_test)"
   ]
  },
  {
   "cell_type": "code",
   "execution_count": 26,
   "id": "3ed3eb63",
   "metadata": {},
   "outputs": [
    {
     "data": {
      "text/html": [
       "<style>#sk-container-id-3 {color: black;background-color: white;}#sk-container-id-3 pre{padding: 0;}#sk-container-id-3 div.sk-toggleable {background-color: white;}#sk-container-id-3 label.sk-toggleable__label {cursor: pointer;display: block;width: 100%;margin-bottom: 0;padding: 0.3em;box-sizing: border-box;text-align: center;}#sk-container-id-3 label.sk-toggleable__label-arrow:before {content: \"▸\";float: left;margin-right: 0.25em;color: #696969;}#sk-container-id-3 label.sk-toggleable__label-arrow:hover:before {color: black;}#sk-container-id-3 div.sk-estimator:hover label.sk-toggleable__label-arrow:before {color: black;}#sk-container-id-3 div.sk-toggleable__content {max-height: 0;max-width: 0;overflow: hidden;text-align: left;background-color: #f0f8ff;}#sk-container-id-3 div.sk-toggleable__content pre {margin: 0.2em;color: black;border-radius: 0.25em;background-color: #f0f8ff;}#sk-container-id-3 input.sk-toggleable__control:checked~div.sk-toggleable__content {max-height: 200px;max-width: 100%;overflow: auto;}#sk-container-id-3 input.sk-toggleable__control:checked~label.sk-toggleable__label-arrow:before {content: \"▾\";}#sk-container-id-3 div.sk-estimator input.sk-toggleable__control:checked~label.sk-toggleable__label {background-color: #d4ebff;}#sk-container-id-3 div.sk-label input.sk-toggleable__control:checked~label.sk-toggleable__label {background-color: #d4ebff;}#sk-container-id-3 input.sk-hidden--visually {border: 0;clip: rect(1px 1px 1px 1px);clip: rect(1px, 1px, 1px, 1px);height: 1px;margin: -1px;overflow: hidden;padding: 0;position: absolute;width: 1px;}#sk-container-id-3 div.sk-estimator {font-family: monospace;background-color: #f0f8ff;border: 1px dotted black;border-radius: 0.25em;box-sizing: border-box;margin-bottom: 0.5em;}#sk-container-id-3 div.sk-estimator:hover {background-color: #d4ebff;}#sk-container-id-3 div.sk-parallel-item::after {content: \"\";width: 100%;border-bottom: 1px solid gray;flex-grow: 1;}#sk-container-id-3 div.sk-label:hover label.sk-toggleable__label {background-color: #d4ebff;}#sk-container-id-3 div.sk-serial::before {content: \"\";position: absolute;border-left: 1px solid gray;box-sizing: border-box;top: 0;bottom: 0;left: 50%;z-index: 0;}#sk-container-id-3 div.sk-serial {display: flex;flex-direction: column;align-items: center;background-color: white;padding-right: 0.2em;padding-left: 0.2em;position: relative;}#sk-container-id-3 div.sk-item {position: relative;z-index: 1;}#sk-container-id-3 div.sk-parallel {display: flex;align-items: stretch;justify-content: center;background-color: white;position: relative;}#sk-container-id-3 div.sk-item::before, #sk-container-id-3 div.sk-parallel-item::before {content: \"\";position: absolute;border-left: 1px solid gray;box-sizing: border-box;top: 0;bottom: 0;left: 50%;z-index: -1;}#sk-container-id-3 div.sk-parallel-item {display: flex;flex-direction: column;z-index: 1;position: relative;background-color: white;}#sk-container-id-3 div.sk-parallel-item:first-child::after {align-self: flex-end;width: 50%;}#sk-container-id-3 div.sk-parallel-item:last-child::after {align-self: flex-start;width: 50%;}#sk-container-id-3 div.sk-parallel-item:only-child::after {width: 0;}#sk-container-id-3 div.sk-dashed-wrapped {border: 1px dashed gray;margin: 0 0.4em 0.5em 0.4em;box-sizing: border-box;padding-bottom: 0.4em;background-color: white;}#sk-container-id-3 div.sk-label label {font-family: monospace;font-weight: bold;display: inline-block;line-height: 1.2em;}#sk-container-id-3 div.sk-label-container {text-align: center;}#sk-container-id-3 div.sk-container {/* jupyter's `normalize.less` sets `[hidden] { display: none; }` but bootstrap.min.css set `[hidden] { display: none !important; }` so we also need the `!important` here to be able to override the default hidden behavior on the sphinx rendered scikit-learn.org. See: https://github.com/scikit-learn/scikit-learn/issues/21755 */display: inline-block !important;position: relative;}#sk-container-id-3 div.sk-text-repr-fallback {display: none;}</style><div id=\"sk-container-id-3\" class=\"sk-top-container\"><div class=\"sk-text-repr-fallback\"><pre>LogisticRegression()</pre><b>In a Jupyter environment, please rerun this cell to show the HTML representation or trust the notebook. <br />On GitHub, the HTML representation is unable to render, please try loading this page with nbviewer.org.</b></div><div class=\"sk-container\" hidden><div class=\"sk-item\"><div class=\"sk-estimator sk-toggleable\"><input class=\"sk-toggleable__control sk-hidden--visually\" id=\"sk-estimator-id-3\" type=\"checkbox\" checked><label for=\"sk-estimator-id-3\" class=\"sk-toggleable__label sk-toggleable__label-arrow\">LogisticRegression</label><div class=\"sk-toggleable__content\"><pre>LogisticRegression()</pre></div></div></div></div></div>"
      ],
      "text/plain": [
       "LogisticRegression()"
      ]
     },
     "execution_count": 26,
     "metadata": {},
     "output_type": "execute_result"
    }
   ],
   "source": [
    "model= LogisticRegression()\n",
    "model.fit(x_train,y_train)"
   ]
  },
  {
   "cell_type": "code",
   "execution_count": 27,
   "id": "0f733ead",
   "metadata": {},
   "outputs": [
    {
     "data": {
      "text/plain": [
       "array([[5.60652514e-04, 9.99439347e-01],\n",
       "       [9.99973667e-01, 2.63327549e-05],\n",
       "       [3.32891167e-03, 9.96671088e-01],\n",
       "       [8.97087568e-01, 1.02912432e-01],\n",
       "       [7.19059694e-04, 9.99280940e-01],\n",
       "       [9.99964619e-01, 3.53805913e-05],\n",
       "       [1.77352986e-03, 9.98226470e-01],\n",
       "       [7.55780244e-01, 2.44219756e-01],\n",
       "       [9.99997417e-01, 2.58268537e-06],\n",
       "       [9.94657427e-01, 5.34257252e-03],\n",
       "       [9.99993059e-01, 6.94104624e-06],\n",
       "       [9.98554422e-01, 1.44557763e-03],\n",
       "       [5.05539393e-04, 9.99494461e-01],\n",
       "       [2.39854504e-02, 9.76014550e-01],\n",
       "       [9.99790109e-01, 2.09890904e-04],\n",
       "       [5.89235635e-01, 4.10764365e-01],\n",
       "       [2.07556266e-03, 9.97924437e-01],\n",
       "       [7.34101965e-03, 9.92658980e-01],\n",
       "       [9.95865703e-01, 4.13429696e-03],\n",
       "       [3.98262651e-02, 9.60173735e-01],\n",
       "       [9.99723470e-01, 2.76530168e-04],\n",
       "       [1.31066806e-02, 9.86893319e-01],\n",
       "       [9.99998099e-01, 1.90062022e-06],\n",
       "       [9.99962396e-01, 3.76041648e-05],\n",
       "       [1.40744491e-02, 9.85925551e-01],\n",
       "       [7.07948616e-01, 2.92051384e-01],\n",
       "       [9.99380419e-01, 6.19580536e-04],\n",
       "       [2.64010628e-02, 9.73598937e-01],\n",
       "       [1.35369879e-04, 9.99864630e-01],\n",
       "       [9.99999932e-01, 6.82729024e-08],\n",
       "       [7.79205739e-01, 2.20794261e-01],\n",
       "       [3.58872110e-02, 9.64112789e-01],\n",
       "       [2.37601354e-03, 9.97623986e-01],\n",
       "       [9.99678703e-01, 3.21297256e-04],\n",
       "       [3.73929936e-01, 6.26070064e-01],\n",
       "       [1.00000000e+00, 1.32235026e-10],\n",
       "       [1.08187922e-03, 9.98918121e-01],\n",
       "       [3.47027159e-03, 9.96529728e-01],\n",
       "       [8.64292317e-01, 1.35707683e-01],\n",
       "       [1.11749535e-01, 8.88250465e-01],\n",
       "       [9.99953909e-01, 4.60907260e-05],\n",
       "       [8.52572107e-01, 1.47427893e-01],\n",
       "       [9.49679027e-01, 5.03209730e-02],\n",
       "       [6.93457970e-02, 9.30654203e-01],\n",
       "       [2.31829330e-04, 9.99768171e-01],\n",
       "       [6.00453258e-02, 9.39954674e-01],\n",
       "       [2.10995363e-03, 9.97890046e-01],\n",
       "       [7.65187455e-05, 9.99923481e-01],\n",
       "       [3.67969293e-02, 9.63203071e-01],\n",
       "       [4.50416585e-02, 9.54958341e-01],\n",
       "       [5.38941992e-04, 9.99461058e-01],\n",
       "       [8.06315334e-02, 9.19368467e-01],\n",
       "       [2.84765446e-01, 7.15234554e-01],\n",
       "       [4.90504278e-05, 9.99950950e-01],\n",
       "       [1.10254822e-01, 8.89745178e-01],\n",
       "       [4.45946452e-03, 9.95540535e-01],\n",
       "       [3.18217912e-04, 9.99681782e-01],\n",
       "       [4.21467035e-03, 9.95785330e-01],\n",
       "       [2.16267250e-02, 9.78373275e-01],\n",
       "       [8.29412090e-01, 1.70587910e-01],\n",
       "       [1.01410298e-01, 8.98589702e-01],\n",
       "       [6.31655137e-03, 9.93683449e-01],\n",
       "       [1.46755707e-03, 9.98532443e-01],\n",
       "       [9.99956264e-01, 4.37360516e-05],\n",
       "       [2.32516069e-01, 7.67483931e-01],\n",
       "       [9.21537169e-01, 7.84628307e-02],\n",
       "       [9.18181739e-01, 8.18182607e-02],\n",
       "       [1.82714650e-02, 9.81728535e-01],\n",
       "       [2.16462203e-03, 9.97835378e-01],\n",
       "       [5.07491780e-03, 9.94925082e-01],\n",
       "       [4.91396393e-03, 9.95086036e-01],\n",
       "       [9.99530410e-01, 4.69589969e-04],\n",
       "       [4.30113912e-01, 5.69886088e-01],\n",
       "       [2.13326846e-04, 9.99786673e-01],\n",
       "       [1.19279083e-04, 9.99880721e-01],\n",
       "       [8.64978282e-04, 9.99135022e-01],\n",
       "       [1.44117054e-01, 8.55882946e-01],\n",
       "       [9.73428325e-01, 2.65716751e-02],\n",
       "       [3.52590833e-02, 9.64740917e-01],\n",
       "       [4.15402446e-03, 9.95845976e-01],\n",
       "       [7.96016053e-06, 9.99992040e-01],\n",
       "       [2.11591564e-01, 7.88408436e-01],\n",
       "       [7.89001540e-01, 2.10998460e-01],\n",
       "       [2.74508107e-02, 9.72549189e-01],\n",
       "       [1.99665303e-01, 8.00334697e-01],\n",
       "       [1.18436814e-01, 8.81563186e-01],\n",
       "       [8.83929251e-02, 9.11607075e-01],\n",
       "       [9.99851987e-01, 1.48013182e-04],\n",
       "       [9.93932145e-01, 6.06785479e-03],\n",
       "       [1.11095987e-01, 8.88904013e-01],\n",
       "       [5.19732520e-01, 4.80267480e-01],\n",
       "       [8.13554758e-01, 1.86445242e-01],\n",
       "       [8.06193499e-03, 9.91938065e-01],\n",
       "       [8.42142132e-02, 9.15785787e-01],\n",
       "       [4.14343912e-01, 5.85656088e-01],\n",
       "       [1.47457106e-02, 9.85254289e-01],\n",
       "       [9.99730522e-01, 2.69477901e-04],\n",
       "       [9.88970579e-01, 1.10294215e-02],\n",
       "       [9.96403239e-01, 3.59676144e-03],\n",
       "       [9.90550200e-01, 9.44980034e-03],\n",
       "       [9.92927644e-01, 7.07235600e-03],\n",
       "       [9.88941238e-01, 1.10587620e-02],\n",
       "       [5.40358665e-01, 4.59641335e-01],\n",
       "       [1.48238433e-01, 8.51761567e-01],\n",
       "       [9.99947948e-01, 5.20523351e-05],\n",
       "       [4.88699153e-03, 9.95113008e-01],\n",
       "       [6.68426844e-04, 9.99331573e-01],\n",
       "       [7.25749874e-01, 2.74250126e-01],\n",
       "       [9.98969276e-01, 1.03072430e-03],\n",
       "       [5.82734845e-03, 9.94172652e-01],\n",
       "       [2.86023207e-04, 9.99713977e-01],\n",
       "       [1.60202542e-04, 9.99839797e-01],\n",
       "       [8.51533667e-01, 1.48466333e-01],\n",
       "       [7.41648802e-03, 9.92583512e-01]])"
      ]
     },
     "execution_count": 27,
     "metadata": {},
     "output_type": "execute_result"
    }
   ],
   "source": [
    "model.predict_proba(x_test)"
   ]
  },
  {
   "cell_type": "code",
   "execution_count": 28,
   "id": "35ede3f0",
   "metadata": {},
   "outputs": [
    {
     "data": {
      "text/plain": [
       "array([1, 0, 1, 0, 1, 0, 1, 0, 0, 0, 0, 0, 1, 1, 0, 0, 1, 1, 0, 1, 0, 1,\n",
       "       0, 0, 1, 0, 0, 1, 1, 0, 0, 1, 1, 0, 1, 0, 1, 1, 0, 1, 0, 0, 0, 1,\n",
       "       1, 1, 1, 1, 1, 1, 1, 1, 1, 1, 1, 1, 1, 1, 1, 0, 1, 1, 1, 0, 1, 0,\n",
       "       0, 1, 1, 1, 1, 0, 1, 1, 1, 1, 1, 0, 1, 1, 1, 1, 0, 1, 1, 1, 1, 0,\n",
       "       0, 1, 0, 0, 1, 1, 1, 1, 0, 0, 0, 0, 0, 0, 0, 1, 0, 1, 1, 0, 0, 1,\n",
       "       1, 1, 0, 1], dtype=int64)"
      ]
     },
     "execution_count": 28,
     "metadata": {},
     "output_type": "execute_result"
    }
   ],
   "source": [
    "model.predict(x_test)"
   ]
  },
  {
   "cell_type": "code",
   "execution_count": 29,
   "id": "43304ac5",
   "metadata": {},
   "outputs": [
    {
     "data": {
      "text/plain": [
       "0.9298245614035088"
      ]
     },
     "execution_count": 29,
     "metadata": {},
     "output_type": "execute_result"
    }
   ],
   "source": [
    "model.score(x_test,y_test)"
   ]
  },
  {
   "cell_type": "code",
   "execution_count": 30,
   "id": "32297733",
   "metadata": {},
   "outputs": [
    {
     "data": {
      "text/plain": [
       "['./../savedModels/model.joblib']"
      ]
     },
     "execution_count": 30,
     "metadata": {},
     "output_type": "execute_result"
    }
   ],
   "source": [
    "dump(model, './../savedModels/model.joblib')\n",
    "dump(standardise,'./../savedModels/scaler.joblib')"
   ]
  },
  {
   "cell_type": "markdown",
   "id": "ca3e0cfd",
   "metadata": {},
   "source": [
    "# using random forest"
   ]
  },
  {
   "cell_type": "code",
   "execution_count": 32,
   "id": "d4bcdfc8",
   "metadata": {},
   "outputs": [],
   "source": [
    "model2= RandomForestClassifier()"
   ]
  },
  {
   "cell_type": "code",
   "execution_count": 33,
   "id": "66f9bbf8",
   "metadata": {},
   "outputs": [
    {
     "data": {
      "text/html": [
       "<style>#sk-container-id-4 {color: black;background-color: white;}#sk-container-id-4 pre{padding: 0;}#sk-container-id-4 div.sk-toggleable {background-color: white;}#sk-container-id-4 label.sk-toggleable__label {cursor: pointer;display: block;width: 100%;margin-bottom: 0;padding: 0.3em;box-sizing: border-box;text-align: center;}#sk-container-id-4 label.sk-toggleable__label-arrow:before {content: \"▸\";float: left;margin-right: 0.25em;color: #696969;}#sk-container-id-4 label.sk-toggleable__label-arrow:hover:before {color: black;}#sk-container-id-4 div.sk-estimator:hover label.sk-toggleable__label-arrow:before {color: black;}#sk-container-id-4 div.sk-toggleable__content {max-height: 0;max-width: 0;overflow: hidden;text-align: left;background-color: #f0f8ff;}#sk-container-id-4 div.sk-toggleable__content pre {margin: 0.2em;color: black;border-radius: 0.25em;background-color: #f0f8ff;}#sk-container-id-4 input.sk-toggleable__control:checked~div.sk-toggleable__content {max-height: 200px;max-width: 100%;overflow: auto;}#sk-container-id-4 input.sk-toggleable__control:checked~label.sk-toggleable__label-arrow:before {content: \"▾\";}#sk-container-id-4 div.sk-estimator input.sk-toggleable__control:checked~label.sk-toggleable__label {background-color: #d4ebff;}#sk-container-id-4 div.sk-label input.sk-toggleable__control:checked~label.sk-toggleable__label {background-color: #d4ebff;}#sk-container-id-4 input.sk-hidden--visually {border: 0;clip: rect(1px 1px 1px 1px);clip: rect(1px, 1px, 1px, 1px);height: 1px;margin: -1px;overflow: hidden;padding: 0;position: absolute;width: 1px;}#sk-container-id-4 div.sk-estimator {font-family: monospace;background-color: #f0f8ff;border: 1px dotted black;border-radius: 0.25em;box-sizing: border-box;margin-bottom: 0.5em;}#sk-container-id-4 div.sk-estimator:hover {background-color: #d4ebff;}#sk-container-id-4 div.sk-parallel-item::after {content: \"\";width: 100%;border-bottom: 1px solid gray;flex-grow: 1;}#sk-container-id-4 div.sk-label:hover label.sk-toggleable__label {background-color: #d4ebff;}#sk-container-id-4 div.sk-serial::before {content: \"\";position: absolute;border-left: 1px solid gray;box-sizing: border-box;top: 0;bottom: 0;left: 50%;z-index: 0;}#sk-container-id-4 div.sk-serial {display: flex;flex-direction: column;align-items: center;background-color: white;padding-right: 0.2em;padding-left: 0.2em;position: relative;}#sk-container-id-4 div.sk-item {position: relative;z-index: 1;}#sk-container-id-4 div.sk-parallel {display: flex;align-items: stretch;justify-content: center;background-color: white;position: relative;}#sk-container-id-4 div.sk-item::before, #sk-container-id-4 div.sk-parallel-item::before {content: \"\";position: absolute;border-left: 1px solid gray;box-sizing: border-box;top: 0;bottom: 0;left: 50%;z-index: -1;}#sk-container-id-4 div.sk-parallel-item {display: flex;flex-direction: column;z-index: 1;position: relative;background-color: white;}#sk-container-id-4 div.sk-parallel-item:first-child::after {align-self: flex-end;width: 50%;}#sk-container-id-4 div.sk-parallel-item:last-child::after {align-self: flex-start;width: 50%;}#sk-container-id-4 div.sk-parallel-item:only-child::after {width: 0;}#sk-container-id-4 div.sk-dashed-wrapped {border: 1px dashed gray;margin: 0 0.4em 0.5em 0.4em;box-sizing: border-box;padding-bottom: 0.4em;background-color: white;}#sk-container-id-4 div.sk-label label {font-family: monospace;font-weight: bold;display: inline-block;line-height: 1.2em;}#sk-container-id-4 div.sk-label-container {text-align: center;}#sk-container-id-4 div.sk-container {/* jupyter's `normalize.less` sets `[hidden] { display: none; }` but bootstrap.min.css set `[hidden] { display: none !important; }` so we also need the `!important` here to be able to override the default hidden behavior on the sphinx rendered scikit-learn.org. See: https://github.com/scikit-learn/scikit-learn/issues/21755 */display: inline-block !important;position: relative;}#sk-container-id-4 div.sk-text-repr-fallback {display: none;}</style><div id=\"sk-container-id-4\" class=\"sk-top-container\"><div class=\"sk-text-repr-fallback\"><pre>RandomForestClassifier()</pre><b>In a Jupyter environment, please rerun this cell to show the HTML representation or trust the notebook. <br />On GitHub, the HTML representation is unable to render, please try loading this page with nbviewer.org.</b></div><div class=\"sk-container\" hidden><div class=\"sk-item\"><div class=\"sk-estimator sk-toggleable\"><input class=\"sk-toggleable__control sk-hidden--visually\" id=\"sk-estimator-id-4\" type=\"checkbox\" checked><label for=\"sk-estimator-id-4\" class=\"sk-toggleable__label sk-toggleable__label-arrow\">RandomForestClassifier</label><div class=\"sk-toggleable__content\"><pre>RandomForestClassifier()</pre></div></div></div></div></div>"
      ],
      "text/plain": [
       "RandomForestClassifier()"
      ]
     },
     "execution_count": 33,
     "metadata": {},
     "output_type": "execute_result"
    }
   ],
   "source": [
    "model2.fit(x_train, y_train)"
   ]
  },
  {
   "cell_type": "code",
   "execution_count": 34,
   "id": "7d8458a5",
   "metadata": {},
   "outputs": [
    {
     "data": {
      "text/plain": [
       "array([[0.04, 0.96],\n",
       "       [1.  , 0.  ],\n",
       "       [0.  , 1.  ],\n",
       "       [0.69, 0.31],\n",
       "       [0.  , 1.  ],\n",
       "       [1.  , 0.  ],\n",
       "       [0.01, 0.99],\n",
       "       [0.83, 0.17],\n",
       "       [1.  , 0.  ],\n",
       "       [1.  , 0.  ],\n",
       "       [1.  , 0.  ],\n",
       "       [1.  , 0.  ],\n",
       "       [0.  , 1.  ],\n",
       "       [0.05, 0.95],\n",
       "       [1.  , 0.  ],\n",
       "       [0.16, 0.84],\n",
       "       [0.03, 0.97],\n",
       "       [0.  , 1.  ],\n",
       "       [0.98, 0.02],\n",
       "       [0.02, 0.98],\n",
       "       [1.  , 0.  ],\n",
       "       [0.02, 0.98],\n",
       "       [1.  , 0.  ],\n",
       "       [1.  , 0.  ],\n",
       "       [0.  , 1.  ],\n",
       "       [0.75, 0.25],\n",
       "       [1.  , 0.  ],\n",
       "       [0.04, 0.96],\n",
       "       [0.  , 1.  ],\n",
       "       [1.  , 0.  ],\n",
       "       [0.95, 0.05],\n",
       "       [0.01, 0.99],\n",
       "       [0.  , 1.  ],\n",
       "       [1.  , 0.  ],\n",
       "       [0.23, 0.77],\n",
       "       [1.  , 0.  ],\n",
       "       [0.  , 1.  ],\n",
       "       [0.02, 0.98],\n",
       "       [0.33, 0.67],\n",
       "       [0.09, 0.91],\n",
       "       [1.  , 0.  ],\n",
       "       [0.85, 0.15],\n",
       "       [1.  , 0.  ],\n",
       "       [0.05, 0.95],\n",
       "       [0.  , 1.  ],\n",
       "       [0.04, 0.96],\n",
       "       [0.  , 1.  ],\n",
       "       [0.  , 1.  ],\n",
       "       [0.01, 0.99],\n",
       "       [0.02, 0.98],\n",
       "       [0.  , 1.  ],\n",
       "       [0.22, 0.78],\n",
       "       [0.59, 0.41],\n",
       "       [0.  , 1.  ],\n",
       "       [0.03, 0.97],\n",
       "       [0.03, 0.97],\n",
       "       [0.  , 1.  ],\n",
       "       [0.01, 0.99],\n",
       "       [0.  , 1.  ],\n",
       "       [0.58, 0.42],\n",
       "       [0.06, 0.94],\n",
       "       [0.01, 0.99],\n",
       "       [0.  , 1.  ],\n",
       "       [1.  , 0.  ],\n",
       "       [0.32, 0.68],\n",
       "       [0.95, 0.05],\n",
       "       [0.94, 0.06],\n",
       "       [0.02, 0.98],\n",
       "       [0.  , 1.  ],\n",
       "       [0.08, 0.92],\n",
       "       [0.  , 1.  ],\n",
       "       [1.  , 0.  ],\n",
       "       [0.4 , 0.6 ],\n",
       "       [0.  , 1.  ],\n",
       "       [0.  , 1.  ],\n",
       "       [0.  , 1.  ],\n",
       "       [0.12, 0.88],\n",
       "       [0.98, 0.02],\n",
       "       [0.04, 0.96],\n",
       "       [0.05, 0.95],\n",
       "       [0.  , 1.  ],\n",
       "       [0.19, 0.81],\n",
       "       [0.67, 0.33],\n",
       "       [0.06, 0.94],\n",
       "       [0.18, 0.82],\n",
       "       [0.06, 0.94],\n",
       "       [0.07, 0.93],\n",
       "       [1.  , 0.  ],\n",
       "       [1.  , 0.  ],\n",
       "       [0.03, 0.97],\n",
       "       [0.81, 0.19],\n",
       "       [0.75, 0.25],\n",
       "       [0.05, 0.95],\n",
       "       [0.05, 0.95],\n",
       "       [0.75, 0.25],\n",
       "       [0.02, 0.98],\n",
       "       [1.  , 0.  ],\n",
       "       [0.91, 0.09],\n",
       "       [1.  , 0.  ],\n",
       "       [0.94, 0.06],\n",
       "       [1.  , 0.  ],\n",
       "       [1.  , 0.  ],\n",
       "       [0.32, 0.68],\n",
       "       [0.11, 0.89],\n",
       "       [1.  , 0.  ],\n",
       "       [0.  , 1.  ],\n",
       "       [0.  , 1.  ],\n",
       "       [0.39, 0.61],\n",
       "       [1.  , 0.  ],\n",
       "       [0.  , 1.  ],\n",
       "       [0.  , 1.  ],\n",
       "       [0.  , 1.  ],\n",
       "       [0.26, 0.74],\n",
       "       [0.07, 0.93]])"
      ]
     },
     "execution_count": 34,
     "metadata": {},
     "output_type": "execute_result"
    }
   ],
   "source": [
    "model2.predict_proba(x_test)"
   ]
  },
  {
   "cell_type": "code",
   "execution_count": 35,
   "id": "bcc73f15",
   "metadata": {},
   "outputs": [
    {
     "data": {
      "text/plain": [
       "array([1, 0, 1, 0, 1, 0, 1, 0, 0, 0, 0, 0, 1, 1, 0, 1, 1, 1, 0, 1, 0, 1,\n",
       "       0, 0, 1, 0, 0, 1, 1, 0, 0, 1, 1, 0, 1, 0, 1, 1, 1, 1, 0, 0, 0, 1,\n",
       "       1, 1, 1, 1, 1, 1, 1, 1, 0, 1, 1, 1, 1, 1, 1, 0, 1, 1, 1, 0, 1, 0,\n",
       "       0, 1, 1, 1, 1, 0, 1, 1, 1, 1, 1, 0, 1, 1, 1, 1, 0, 1, 1, 1, 1, 0,\n",
       "       0, 1, 0, 0, 1, 1, 0, 1, 0, 0, 0, 0, 0, 0, 1, 1, 0, 1, 1, 1, 0, 1,\n",
       "       1, 1, 1, 1], dtype=int64)"
      ]
     },
     "execution_count": 35,
     "metadata": {},
     "output_type": "execute_result"
    }
   ],
   "source": [
    "model2.predict(x_test)"
   ]
  },
  {
   "cell_type": "code",
   "execution_count": 36,
   "id": "ac331828",
   "metadata": {},
   "outputs": [
    {
     "data": {
      "text/plain": [
       "0.9210526315789473"
      ]
     },
     "execution_count": 36,
     "metadata": {},
     "output_type": "execute_result"
    }
   ],
   "source": [
    "model2.score(x_test,y_test)"
   ]
  },
  {
   "cell_type": "markdown",
   "id": "9fb04a3b",
   "metadata": {},
   "source": [
    "# training knn on all features"
   ]
  },
  {
   "cell_type": "markdown",
   "id": "b64848ee",
   "metadata": {},
   "source": [
    "x=df[['mean_radius','mean_texture','mean_perimeter','mean_area','mean_smoothness']]\n",
    "y = df['diagnosis']\n",
    "\n",
    "x_train, x_test, y_train, y_test=train_test_split(x,y,test_size=0.2, random_state=10) #splitting\n",
    "\n",
    "x_train= standardise.fit_transform(x_train)\n",
    "x_test= standardise.transform(x_test)"
   ]
  },
  {
   "cell_type": "code",
   "execution_count": 37,
   "id": "f72ef0b4",
   "metadata": {},
   "outputs": [
    {
     "name": "stdout",
     "output_type": "stream",
     "text": [
      "[0.8947368421052632, 0.8859649122807017, 0.9035087719298246, 0.9035087719298246, 0.9035087719298246, 0.9035087719298246, 0.9122807017543859, 0.9122807017543859, 0.9122807017543859]\n"
     ]
    },
    {
     "data": {
      "image/png": "[encoded data removed]",
      "text/plain": [
       "<Figure size 432x288 with 1 Axes>"
      ]
     },
     "metadata": {
      "needs_background": "light"
     },
     "output_type": "display_data"
    }
   ],
   "source": [
    "#using KNN to select the no. of neighbours for which there is maximum accuracy\n",
    "accuracy = []\n",
    "num_neigh = []\n",
    "\n",
    " \n",
    "for ii in range(1,10):\n",
    "    KNN = KNeighborsClassifier(n_neighbors=ii)\n",
    "    KNN.fit(x_train,y_train)\n",
    "    accuracy.append(KNN.score(x_test,y_test))\n",
    "    num_neigh.append(ii)\n",
    "\n",
    "print(accuracy)\n",
    "plt.scatter(num_neigh,accuracy)\n",
    "plt.xlabel('Number of neighbours')\n",
    "plt.ylabel('Accuracy')\n",
    "plt.show();"
   ]
  },
  {
   "cell_type": "code",
   "execution_count": 38,
   "id": "57c06d30",
   "metadata": {},
   "outputs": [
    {
     "name": "stdout",
     "output_type": "stream",
     "text": [
      "[1 0 1 1 1 0 1 0 0 0 0 0 1 1 0 1 1 1 0 1 0 1 0 0 1 1 0 1 1 0 0 1 1 0 1 0 1\n",
      " 1 1 1 0 0 0 1 1 1 1 1 1 1 1 1 0 1 1 1 1 1 1 0 1 1 1 0 1 0 0 1 1 1 1 0 1 1\n",
      " 1 1 1 0 1 1 1 1 0 1 1 1 1 0 0 1 0 0 1 1 1 1 0 0 0 0 0 0 1 1 0 1 1 0 0 1 1\n",
      " 1 0 1]\n"
     ]
    }
   ],
   "source": [
    "KNN = KNeighborsClassifier(n_neighbors=7)\n",
    "KNN = KNN.fit(x_train,y_train)\n",
    "y_predict = KNN.predict(x_test)\n",
    "print(y_predict)"
   ]
  },
  {
   "cell_type": "code",
   "execution_count": 39,
   "id": "58f96924",
   "metadata": {},
   "outputs": [
    {
     "name": "stdout",
     "output_type": "stream",
     "text": [
      "[[39  7]\n",
      " [ 3 65]]\n"
     ]
    }
   ],
   "source": [
    "print(confusion_matrix(y_test, y_predict))"
   ]
  },
  {
   "cell_type": "code",
   "execution_count": 40,
   "id": "3122df85",
   "metadata": {},
   "outputs": [
    {
     "data": {
      "text/plain": [
       "<AxesSubplot:xlabel='Predicted', ylabel='Actual'>"
      ]
     },
     "execution_count": 40,
     "metadata": {},
     "output_type": "execute_result"
    },
    {
     "data": {
      "image/png": "[encoded data removed]",
      "text/plain": [
       "<Figure size 432x288 with 2 Axes>"
      ]
     },
     "metadata": {
      "needs_background": "light"
     },
     "output_type": "display_data"
    }
   ],
   "source": [
    "df = pd.DataFrame()\n",
    "\n",
    "\n",
    "#df['Actual'] = y_test.argmax(axis=1)\n",
    "#df['Predicted'] = y_predict.argmax(axis=1)\n",
    "\n",
    "#freq = pd.crosstab(df.Actual,df.Predicted)\n",
    "\n",
    "\n",
    "#sns.heatmap(freq,annot=True,fmt=\"d\")\n",
    "\n",
    "\n",
    "# Create new columns within dataframe\n",
    "df['Actual'] = y_test\n",
    "df['Predicted'] = y_predict\n",
    "\n",
    "# Use pd.crosstab to count the frequency of the classes in actual and predicted\n",
    "freq = pd.crosstab(df.Actual,df.Predicted)\n",
    "\n",
    "# Use sns.heatmap to plot the heatmap\n",
    "sns.heatmap(freq,annot=True,fmt=\"d\")"
   ]
  },
  {
   "cell_type": "markdown",
   "id": "be74aca8",
   "metadata": {},
   "source": [
    "# training knn model first on two features "
   ]
  },
  {
   "cell_type": "markdown",
   "id": "6cda7853",
   "metadata": {},
   "source": [
    "x1=df[['mean_perimeter','mean_area']]\n",
    "y = df['diagnosis']\n",
    "standardise = StandardScaler()\n",
    "x_train, x_test, y_train, y_test=train_test_split(x1,y,test_size=0.2, random_state=10) #splitting\n",
    "print(\"Number of rows in x_train:\", x_train.shape[0])\n",
    "print(\"Number of rows in x_test:\", x_test.shape[0])\n",
    "print(\"Number of rows in y_train:\", y_train.shape[0])\n",
    "print(\"Number of rows in y_test:\", y_test.shape[0])\n",
    "x_train= standardise.fit_transform(x_train)\n",
    "x_test= standardise.transform(x_test)"
   ]
  },
  {
   "cell_type": "markdown",
   "id": "83655999",
   "metadata": {},
   "source": [
    "accuracy = []\n",
    "num_neigh = []\n",
    "\n",
    " \n",
    "for ii in range(1,10):\n",
    "    KNN = KNeighborsClassifier(n_neighbors=ii)\n",
    "    KNN.fit(x_train,y_train)\n",
    "    accuracy.append(KNN.score(x_test,y_test))\n",
    "    num_neigh.append(ii)\n",
    "\n",
    "print(accuracy)\n",
    "plt.scatter(num_neigh,accuracy)\n",
    "plt.xlabel('Number of neighbours')\n",
    "plt.ylabel('Accuracy')\n",
    "plt.show();"
   ]
  },
  {
   "cell_type": "markdown",
   "id": "8c905d93",
   "metadata": {},
   "source": [
    "KNN = KNeighborsClassifier(n_neighbors=6)\n",
    "KNN = KNN.fit(x_train,y_train)\n",
    "y_predict = KNN.predict(x_test)\n",
    "print(y_predict)"
   ]
  },
  {
   "cell_type": "markdown",
   "id": "863c6d60",
   "metadata": {},
   "source": [
    "print(confusion_matrix(y_test, y_predict))"
   ]
  },
  {
   "cell_type": "markdown",
   "id": "7a657de2",
   "metadata": {},
   "source": [
    "df = pd.DataFrame()\n",
    "\n",
    "df['Actual'] = y_test\n",
    "df['Predicted'] = y_predict\n",
    "\n",
    "freq = pd.crosstab(df.Actual,df.Predicted)\n",
    "\n",
    "sns.heatmap(freq,annot=True,fmt=\"d\")"
   ]
  },
  {
   "cell_type": "markdown",
   "id": "bbb9c684",
   "metadata": {},
   "source": [
    "#training the model on all the features\n",
    "KNN=KNeighborsClassifier()\n",
    "\n",
    "\n",
    "x=df[['mean_radius','mean_texture','mean_perimeter','mean_area','mean_smoothness']]\n",
    "y = df['diagnosis']\n",
    "\n",
    "\n",
    "KNN=KNN.fit(x,y)\n",
    "\n",
    "test=pd.DataFrame()\n",
    "\n",
    "test['mean_radius']=[13.37, 25]\n",
    "test['mean_texture']=[15.2, 20.88]\n",
    "test['mean_perimeter']=[90,140]\n",
    "test['mean_area']=[400, 1200]\n",
    "test['mean_smoothness']=[0.09763, 0.2]\n",
    "\n",
    "result=KNN.predict(test)\n",
    "\n",
    "print(result)\n"
   ]
  },
  {
   "cell_type": "markdown",
   "id": "de569710",
   "metadata": {},
   "source": [
    "y = to_categorical(y)\n",
    "print(y)"
   ]
  },
  {
   "cell_type": "markdown",
   "id": "231085e3",
   "metadata": {},
   "source": [
    "# using sequential model"
   ]
  },
  {
   "cell_type": "code",
   "execution_count": 51,
   "id": "a6c915b6",
   "metadata": {},
   "outputs": [
    {
     "name": "stdout",
     "output_type": "stream",
     "text": [
      "Model: \"sequential\"\n",
      "_________________________________________________________________\n",
      "Layer (type)                 Output Shape              Param #   \n",
      "=================================================================\n",
      "dense (Dense)                (None, 5)                 30        \n",
      "_________________________________________________________________\n",
      "dense_1 (Dense)              (None, 5)                 30        \n",
      "_________________________________________________________________\n",
      "dense_2 (Dense)              (None, 5)                 30        \n",
      "_________________________________________________________________\n",
      "dense_3 (Dense)              (None, 2)                 12        \n",
      "=================================================================\n",
      "Total params: 102\n",
      "Trainable params: 102\n",
      "Non-trainable params: 0\n",
      "_________________________________________________________________\n",
      "None\n"
     ]
    }
   ],
   "source": [
    "model3= Sequential()\n",
    "\n",
    "model3.add(Dense(5,input_dim=5,activation='relu'))\n",
    "model3.add(Dense(5,activation='relu'))\n",
    "model3.add(Dense(5,activation='relu'))\n",
    "model3.add(Dense(2,activation='softmax'))\n",
    "\n",
    "model3.compile(optimizer='adam',loss='binary_crossentropy', metrics=['accuracy'])\n",
    "print(model3.summary())"
   ]
  },
  {
   "cell_type": "code",
   "execution_count": 52,
   "id": "b55e322f",
   "metadata": {},
   "outputs": [
    {
     "name": "stdout",
     "output_type": "stream",
     "text": [
      "Epoch 1/30\n",
      "  1/454 [..............................] - ETA: 0s - loss: 0.6932 - accuracy: 0.0000e+00WARNING:tensorflow:Callbacks method `on_train_batch_end` is slow compared to the batch time (batch time: 0.0000s vs `on_train_batch_end` time: 0.0143s). Check your callbacks.\n",
      "454/454 [==============================] - 1s 3ms/step - loss: 0.6932 - accuracy: 0.4273 - val_loss: 0.6932 - val_accuracy: 0.4825\n",
      "Epoch 2/30\n",
      "454/454 [==============================] - ETA: 0s - loss: 0.6932 - accuracy: 0.45 - 1s 2ms/step - loss: 0.6932 - accuracy: 0.4758 - val_loss: 0.6932 - val_accuracy: 0.6667\n",
      "Epoch 3/30\n",
      "454/454 [==============================] - 1s 2ms/step - loss: 0.6932 - accuracy: 0.5176 - val_loss: 0.6932 - val_accuracy: 0.3947\n",
      "Epoch 4/30\n",
      "454/454 [==============================] - 1s 3ms/step - loss: 0.6932 - accuracy: 0.4934 - val_loss: 0.6932 - val_accuracy: 0.4298\n",
      "Epoch 5/30\n",
      "454/454 [==============================] - 1s 3ms/step - loss: 0.6932 - accuracy: 0.5286 - val_loss: 0.6932 - val_accuracy: 0.5877\n",
      "Epoch 6/30\n",
      "454/454 [==============================] - 1s 2ms/step - loss: 0.6931 - accuracy: 0.4912 - val_loss: 0.6932 - val_accuracy: 0.6491\n",
      "Epoch 7/30\n",
      "454/454 [==============================] - 1s 2ms/step - loss: 0.6931 - accuracy: 0.5308 - val_loss: 0.6932 - val_accuracy: 0.4035\n",
      "Epoch 8/30\n",
      "454/454 [==============================] - 1s 2ms/step - loss: 0.6931 - accuracy: 0.4912 - val_loss: 0.6931 - val_accuracy: 0.7193\n",
      "Epoch 9/30\n",
      "454/454 [==============================] - 1s 2ms/step - loss: 0.6931 - accuracy: 0.5066 - val_loss: 0.6931 - val_accuracy: 0.6842\n",
      "Epoch 10/30\n",
      "454/454 [==============================] - 1s 2ms/step - loss: 0.6931 - accuracy: 0.4824 - val_loss: 0.6931 - val_accuracy: 0.7105\n",
      "Epoch 11/30\n",
      "454/454 [==============================] - ETA: 0s - loss: 0.6931 - accuracy: 0.50 - 1s 2ms/step - loss: 0.6931 - accuracy: 0.5000 - val_loss: 0.6931 - val_accuracy: 0.3596\n",
      "Epoch 12/30\n",
      "454/454 [==============================] - 1s 2ms/step - loss: 0.6931 - accuracy: 0.4934 - val_loss: 0.6931 - val_accuracy: 0.3772\n",
      "Epoch 13/30\n",
      "454/454 [==============================] - 1s 2ms/step - loss: 0.6931 - accuracy: 0.4912 - val_loss: 0.6931 - val_accuracy: 0.6228\n",
      "Epoch 14/30\n",
      "454/454 [==============================] - 1s 3ms/step - loss: 0.6931 - accuracy: 0.5132 - val_loss: 0.6931 - val_accuracy: 0.3772\n",
      "Epoch 15/30\n",
      "454/454 [==============================] - 1s 2ms/step - loss: 0.6931 - accuracy: 0.4978 - val_loss: 0.6931 - val_accuracy: 0.6579\n",
      "Epoch 16/30\n",
      "454/454 [==============================] - 1s 3ms/step - loss: 0.6931 - accuracy: 0.5242 - val_loss: 0.6931 - val_accuracy: 0.6140\n",
      "Epoch 17/30\n",
      "454/454 [==============================] - 1s 2ms/step - loss: 0.6931 - accuracy: 0.4824 - val_loss: 0.6931 - val_accuracy: 0.5965\n",
      "Epoch 18/30\n",
      "454/454 [==============================] - 1s 2ms/step - loss: 0.6931 - accuracy: 0.4714 - val_loss: 0.6931 - val_accuracy: 0.5965\n",
      "Epoch 19/30\n",
      "454/454 [==============================] - 1s 2ms/step - loss: 0.6931 - accuracy: 0.4912 - val_loss: 0.6931 - val_accuracy: 0.5965\n",
      "Epoch 20/30\n",
      "454/454 [==============================] - 1s 2ms/step - loss: 0.6931 - accuracy: 0.4692 - val_loss: 0.6931 - val_accuracy: 0.4123\n",
      "Epoch 21/30\n",
      "454/454 [==============================] - 1s 2ms/step - loss: 0.6931 - accuracy: 0.5066 - val_loss: 0.6931 - val_accuracy: 0.5965\n",
      "Epoch 22/30\n",
      "454/454 [==============================] - 1s 2ms/step - loss: 0.6931 - accuracy: 0.5132 - val_loss: 0.6931 - val_accuracy: 0.4123\n",
      "Epoch 23/30\n",
      "454/454 [==============================] - 1s 2ms/step - loss: 0.6931 - accuracy: 0.4670 - val_loss: 0.6931 - val_accuracy: 0.4123\n",
      "Epoch 24/30\n",
      "454/454 [==============================] - 1s 2ms/step - loss: 0.6931 - accuracy: 0.4868 - val_loss: 0.6931 - val_accuracy: 0.4123\n",
      "Epoch 25/30\n",
      "454/454 [==============================] - 1s 2ms/step - loss: 0.6931 - accuracy: 0.4758 - val_loss: 0.6931 - val_accuracy: 0.4123\n",
      "Epoch 26/30\n",
      "454/454 [==============================] - 1s 2ms/step - loss: 0.6931 - accuracy: 0.5044 - val_loss: 0.6931 - val_accuracy: 0.5965\n",
      "Epoch 27/30\n",
      "454/454 [==============================] - 1s 2ms/step - loss: 0.6931 - accuracy: 0.4581 - val_loss: 0.6931 - val_accuracy: 0.4123\n",
      "Epoch 28/30\n",
      "454/454 [==============================] - 1s 2ms/step - loss: 0.6931 - accuracy: 0.4824 - val_loss: 0.6931 - val_accuracy: 0.5965\n",
      "Epoch 29/30\n",
      "454/454 [==============================] - 1s 2ms/step - loss: 0.6931 - accuracy: 0.5000 - val_loss: 0.6931 - val_accuracy: 0.5965\n",
      "Epoch 30/30\n",
      "454/454 [==============================] - 1s 2ms/step - loss: 0.6931 - accuracy: 0.4824 - val_loss: 0.6931 - val_accuracy: 0.4123\n"
     ]
    },
    {
     "data": {
      "text/plain": [
       "<tensorflow.python.keras.callbacks.History at 0x19530a9d4c0>"
      ]
     },
     "execution_count": 52,
     "metadata": {},
     "output_type": "execute_result"
    }
   ],
   "source": [
    "model3.fit(x_train,y_train,epochs=30,shuffle=True,validation_data=(x_test,y_test), batch_size=1)"
   ]
  },
  {
   "cell_type": "markdown",
   "id": "fe6854fa",
   "metadata": {},
   "source": [
    "# imported the testing dataset and standardised it"
   ]
  },
  {
   "cell_type": "code",
   "execution_count": 41,
   "id": "6da5c523",
   "metadata": {},
   "outputs": [],
   "source": [
    "df2=pd.read_csv(\"./testing.csv\", header=None)\n",
    "names= ['mean_radius','mean_texture','mean_perimeter','mean_area','mean_smoothness']\n",
    "df2.columns = names"
   ]
  },
  {
   "cell_type": "code",
   "execution_count": 42,
   "id": "00e7af44",
   "metadata": {},
   "outputs": [
    {
     "name": "stdout",
     "output_type": "stream",
     "text": [
      "[[ 0.45956662  1.76406205  0.6233398   0.4923545  -0.26496643]\n",
      " [ 1.40997926 -1.1544824   1.38991158  1.61814372  0.73251329]\n",
      " [-0.10105653 -0.4713328   0.24577071 -0.07892285  0.6927136 ]\n",
      " [-0.10105653 -0.4713328  -1.31335834 -0.82961582  0.6927136 ]\n",
      " [-1.66743281  0.33308596 -0.94566374 -1.20195954 -1.85297405]]\n"
     ]
    }
   ],
   "source": [
    "testing_features=df2[['mean_radius','mean_texture','mean_perimeter','mean_area','mean_smoothness']]\n",
    "testing_features_standardised= standardise.fit_transform(testing_features)\n",
    "print(testing_features_standardised)"
   ]
  },
  {
   "cell_type": "markdown",
   "id": "547b31f7",
   "metadata": {},
   "source": [
    "# using logistic regression on the testing data"
   ]
  },
  {
   "cell_type": "code",
   "execution_count": 43,
   "id": "2e0cdee2",
   "metadata": {},
   "outputs": [
    {
     "name": "stdout",
     "output_type": "stream",
     "text": [
      "[0 0 1 1 1]\n"
     ]
    }
   ],
   "source": [
    "resulting_class = model.predict(testing_features_standardised)\n",
    "print(resulting_class)"
   ]
  },
  {
   "cell_type": "markdown",
   "id": "ebc39ef5",
   "metadata": {},
   "source": [
    "#tumor_type = []\n",
    "#for ii in range(0,resulting_class.shape[0]):\n",
    "#tumor_type.append(np.argmax(resulting_class[ii,:]))\n",
    "#print(tumor_type)"
   ]
  },
  {
   "cell_type": "markdown",
   "id": "0a5d448f",
   "metadata": {},
   "source": []
  },
  {
   "cell_type": "markdown",
   "id": "e8114e9b",
   "metadata": {},
   "source": [
    "# used sequential model on testing data"
   ]
  },
  {
   "cell_type": "markdown",
   "id": "058cbb59",
   "metadata": {},
   "source": [
    "resulting_class = model3.predict(testing_features_standardised)\n",
    "print(resulting_class)"
   ]
  },
  {
   "cell_type": "markdown",
   "id": "6ca4ee71",
   "metadata": {},
   "source": [
    "tumor_type = []\n",
    "for ii in range(0,resulting_class.shape[0]):\n",
    "    tumor_type.append(np.argmax(resulting_class[ii,:]))\n",
    "print(tumor_type)"
   ]
  }
 ],
 "metadata": {
  "kernelspec": {
   "display_name": "Python 3 (ipykernel)",
   "language": "python",
   "name": "python3"
  },
  "language_info": {
   "codemirror_mode": {
    "name": "ipython",
    "version": 3
   },
   "file_extension": ".py",
   "mimetype": "text/x-python",
   "name": "python",
   "nbconvert_exporter": "python",
   "pygments_lexer": "ipython3",
   "version": "3.8.13"
  }
 },
 "nbformat": 4,
 "nbformat_minor": 5
}
